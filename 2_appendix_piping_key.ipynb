{
 "cells": [
  {
   "cell_type": "markdown",
   "metadata": {
    "slideshow": {
     "slide_type": "slide"
    }
   },
   "source": [
    "# More on Piping, Intentions, and Column Expressions"
   ]
  },
  {
   "cell_type": "code",
   "execution_count": 1,
   "metadata": {
    "slideshow": {
     "slide_type": "slide"
    }
   },
   "outputs": [],
   "source": [
    "import pandas as pd\n",
    "from dfply import *\n",
    "import matplotlib.pylab as plt\n",
    "%matplotlib inline"
   ]
  },
  {
   "cell_type": "code",
   "execution_count": 2,
   "metadata": {
    "slideshow": {
     "slide_type": "fragment"
    }
   },
   "outputs": [],
   "source": [
    "artists = pd.read_csv(\"./data/Artists.csv\")"
   ]
  },
  {
   "cell_type": "code",
   "execution_count": 3,
   "metadata": {
    "slideshow": {
     "slide_type": "fragment"
    }
   },
   "outputs": [],
   "source": [
    "# carried over from the last lecture\n",
    "bad_lbls = (artists >> \n",
    "             filter_by(X.Nationality.str.lower().str.startswith('nation').astype('bool')) >>\n",
    "             pull('Nationality')).unique()\n",
    "recode_bad_lbls = {old_lbl:'Nationality unknown' for old_lbl in bad_lbls}\n",
    "replace_zero = {0:np.NaN}"
   ]
  },
  {
   "cell_type": "markdown",
   "metadata": {
    "slideshow": {
     "slide_type": "slide"
    }
   },
   "source": [
    "## Why we love piping? \n",
    "\n",
    "### Reason 1: Composition Baby!\n",
    "\n",
    "It is very easy to put separate pipe together."
   ]
  },
  {
   "cell_type": "code",
   "execution_count": 5,
   "metadata": {
    "slideshow": {
     "slide_type": "fragment"
    }
   },
   "outputs": [],
   "source": [
    "artists_renamed = (artists >>\n",
    "                    rename(Wiki_QID = 'Wiki QID'))\n",
    "artists_new = (artists_renamed >>\n",
    "                mutate(Nationality = X.Nationality.replace(recode_bad_lbls)))\n",
    "artists_new = (artists_new >>\n",
    "                mutate(BeginDate = X.BeginDate.replace(replace_zero)))"
   ]
  },
  {
   "cell_type": "markdown",
   "metadata": {
    "slideshow": {
     "slide_type": "slide"
    }
   },
   "source": [
    "## To compose separate pipes\n",
    "\n",
    "1. Switch ending `)` to `>>`\n",
    "2. Remove the next assignment\n",
    "3. ??\n",
    "4. Profit!"
   ]
  },
  {
   "cell_type": "code",
   "execution_count": 5,
   "metadata": {
    "slideshow": {
     "slide_type": "fragment"
    }
   },
   "outputs": [],
   "source": [
    "artists_renamed = (artists >>\n",
    "                    rename(Wiki_QID = 'Wiki QID') >> #)\n",
    "#artists_new = (artists >>\n",
    "                mutate(Nationality = X.Nationality.replace(recode_bad_lbls)) >> #)\n",
    "#artists_new = (artists_renamed >>\n",
    "                mutate(BeginDate = X.BeginDate.replace(replace_zero)))"
   ]
  },
  {
   "cell_type": "markdown",
   "metadata": {
    "slideshow": {
     "slide_type": "slide"
    }
   },
   "source": [
    "## End product ... full process in a single pipe"
   ]
  },
  {
   "cell_type": "code",
   "execution_count": 6,
   "metadata": {
    "slideshow": {
     "slide_type": "fragment"
    }
   },
   "outputs": [],
   "source": [
    "artists_renamed = (artists >>\n",
    "                    rename(Wiki_QID = 'Wiki QID') >>\n",
    "                    mutate(Nationality = X.Nationality.replace(recode_bad_lbls)) >>\n",
    "                    mutate(BeginDate = X.BeginDate.replace(replace_zero)))"
   ]
  },
  {
   "cell_type": "markdown",
   "metadata": {
    "slideshow": {
     "slide_type": "slide"
    }
   },
   "source": [
    "## Why we love piping? \n",
    "\n",
    "### Reason 2: Textual Gravity!\n",
    "\n",
    "A pipe clearly expression the intention of our code by\n",
    "\n",
    "1. Reading left-to-right and top-to-bottom\n",
    "2. Putting the verbs up front"
   ]
  },
  {
   "cell_type": "code",
   "execution_count": 7,
   "metadata": {
    "slideshow": {
     "slide_type": "fragment"
    }
   },
   "outputs": [],
   "source": [
    "artists_renamed = (artists >>\n",
    "                    rename(Wiki_QID = 'Wiki QID') >>\n",
    "                    mutate(Nationality = X.Nationality.replace(recode_bad_lbls)) >>\n",
    "                    mutate(BeginDate = X.BeginDate.replace(replace_zero)))"
   ]
  },
  {
   "cell_type": "markdown",
   "metadata": {
    "slideshow": {
     "slide_type": "slide"
    }
   },
   "source": [
    "## Why we love piping? \n",
    "\n",
    "### Reason 3: Easy debugging\n",
    "\n",
    "Comments make it easy to debug a pipe."
   ]
  },
  {
   "cell_type": "markdown",
   "metadata": {
    "slideshow": {
     "slide_type": "slide"
    }
   },
   "source": [
    "## Debugging Step 1 - Start at the top\n",
    "\n",
    "Use comments to remove all part of the chain\n",
    "\n",
    "*Don't forget the ending `)`*"
   ]
  },
  {
   "cell_type": "code",
   "execution_count": 11,
   "metadata": {
    "slideshow": {
     "slide_type": "fragment"
    }
   },
   "outputs": [],
   "source": [
    "artists_renamed = (artists\n",
    "                    >> rename(Wiki_QID = 'Wiki QID')\n",
    "                    >> mutate(Nationality = X.Nationality.replace(recode_bad_lbls))\n",
    "                    >> mutate(BeginDate = X.BeginDate.replace(replace_zero))\n",
    "                  )"
   ]
  },
  {
   "cell_type": "markdown",
   "metadata": {
    "slideshow": {
     "slide_type": "slide"
    }
   },
   "source": [
    "## Debugging Step 2 - Work your way down the pipe\n",
    "\n",
    "Add in each part, one-at-a-time, checking the results\n",
    "\n",
    "*Don't forget the ending `)`*"
   ]
  },
  {
   "cell_type": "code",
   "execution_count": 9,
   "metadata": {
    "slideshow": {
     "slide_type": "slide"
    }
   },
   "outputs": [],
   "source": [
    "artists_renamed = (artists >>\n",
    "                    rename(Wiki_QID = 'Wiki QID') ) #>>\n",
    "                    #mutate(Nationality = X.Nationality.replace(recode_bad_lbls)) >>\n",
    "                    #mutate(BeginDate = X.BeginDate.replace(replace_zero)))"
   ]
  },
  {
   "cell_type": "code",
   "execution_count": 10,
   "metadata": {
    "slideshow": {
     "slide_type": "fragment"
    }
   },
   "outputs": [],
   "source": [
    "artists_renamed = (artists >>\n",
    "                    rename(Wiki_QID = 'Wiki QID') >>\n",
    "                    mutate(Nationality = X.Nationality.replace(recode_bad_lbls)) ) #>>\n",
    "                    #mutate(BeginDate = X.BeginDate.replace(replace_zero)))"
   ]
  },
  {
   "cell_type": "code",
   "execution_count": 11,
   "metadata": {
    "slideshow": {
     "slide_type": "fragment"
    }
   },
   "outputs": [],
   "source": [
    "artists_renamed = (artists >>\n",
    "                    rename(Wiki_QID = 'Wiki QID') >>\n",
    "                    mutate(Nationality = X.Nationality.replace(recode_bad_lbls)) >>\n",
    "                    mutate(BeginDate = X.BeginDate.replace(replace_zero)))"
   ]
  }
 ],
 "metadata": {
  "celltoolbar": "Slideshow",
  "kernelspec": {
   "display_name": "Python 3",
   "language": "python",
   "name": "python3"
  },
  "language_info": {
   "codemirror_mode": {
    "name": "ipython",
    "version": 3
   },
   "file_extension": ".py",
   "mimetype": "text/x-python",
   "name": "python",
   "nbconvert_exporter": "python",
   "pygments_lexer": "ipython3",
   "version": "3.7.6"
  },
  "varInspector": {
   "cols": {
    "lenName": 16,
    "lenType": 16,
    "lenVar": 40
   },
   "kernels_config": {
    "python": {
     "delete_cmd_postfix": "",
     "delete_cmd_prefix": "del ",
     "library": "var_list.py",
     "varRefreshCmd": "print(var_dic_list())"
    },
    "r": {
     "delete_cmd_postfix": ") ",
     "delete_cmd_prefix": "rm(",
     "library": "var_list.r",
     "varRefreshCmd": "cat(var_dic_list()) "
    }
   },
   "types_to_exclude": [
    "module",
    "function",
    "builtin_function_or_method",
    "instance",
    "_Feature"
   ],
   "window_display": false
  }
 },
 "nbformat": 4,
 "nbformat_minor": 2
}
